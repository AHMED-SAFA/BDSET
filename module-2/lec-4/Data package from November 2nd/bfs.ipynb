{
 "cells": [
  {
   "cell_type": "code",
   "execution_count": 1,
   "id": "43a717e4-9d70-474d-bf10-d3200e348b1f",
   "metadata": {},
   "outputs": [],
   "source": [
    "from collections import deque,defaultdict"
   ]
  },
  {
   "cell_type": "code",
   "execution_count": 3,
   "id": "c968867a-d5a0-424e-b3b9-a3431a07eed9",
   "metadata": {},
   "outputs": [],
   "source": [
    "def bfs(start,node,adj_list):\n",
    "    visited=defaultdict(int)\n",
    "    label=defaultdict(int)\n",
    "    q=deque()\n",
    "    label[start]=0\n",
    "    q.append(start)\n",
    "    visited[start]=1\n",
    "    while q:\n",
    "        u=q.popleft()\n",
    "        for v in adj_list[u]:\n",
    "            if not visited[v]:\n",
    "                visited[v]=1\n",
    "                label[v]=label[u]+1\n",
    "                q.append(v)\n",
    "    for i in range(1,node+1):\n",
    "        print(f\"shorted distance from 1 to {i} is {label[i]}\")\n",
    "\n",
    "\n"
   ]
  },
  {
   "cell_type": "code",
   "execution_count": 5,
   "id": "b0178146-241d-42ab-b809-bca1d0211186",
   "metadata": {},
   "outputs": [
    {
     "name": "stdout",
     "output_type": "stream",
     "text": [
      "shorted distance from 1 to 1 is 0\n",
      "shorted distance from 1 to 2 is 1\n",
      "shorted distance from 1 to 3 is 1\n",
      "shorted distance from 1 to 4 is 2\n"
     ]
    }
   ],
   "source": [
    "adj_list={1:[2,3],2:[1,4],3:[1],4:[2]}\n",
    "bfs(1,4,adj_list)"
   ]
  },
  {
   "cell_type": "code",
   "execution_count": null,
   "id": "e6323830-3a90-45ed-91ce-d8b241dd2777",
   "metadata": {},
   "outputs": [],
   "source": []
  }
 ],
 "metadata": {
  "kernelspec": {
   "display_name": "Python 3 (ipykernel)",
   "language": "python",
   "name": "python3"
  },
  "language_info": {
   "codemirror_mode": {
    "name": "ipython",
    "version": 3
   },
   "file_extension": ".py",
   "mimetype": "text/x-python",
   "name": "python",
   "nbconvert_exporter": "python",
   "pygments_lexer": "ipython3",
   "version": "3.12.4"
  }
 },
 "nbformat": 4,
 "nbformat_minor": 5
}
