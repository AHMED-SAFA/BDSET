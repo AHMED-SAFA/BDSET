{
 "cells": [
  {
   "cell_type": "code",
   "execution_count": 1,
   "id": "38501f12-9ec5-4f0e-adf9-8eba327ca74e",
   "metadata": {},
   "outputs": [],
   "source": [
    "from collections import deque,defaultdict\n",
    "def bfs(start,node,adj_list):\n",
    "    visited=defaultdict(int)\n",
    "    label=defaultdict(int)\n",
    "    q=deque()\n",
    "    label[start]=0\n",
    "    q.append(start)\n",
    "    visited[start]=1\n",
    "    while q:\n",
    "        u=q.popleft()\n",
    "        for v in adj_list[u]:\n",
    "            if not visited[v]:\n",
    "                visited[v]=1\n",
    "                label[v]=label[u]+1\n",
    "                q.append(v)\n",
    "    for x in range(1,node+1):\n",
    "        print(f\"Distance from 1 to {x} is {label[x]}\")"
   ]
  },
  {
   "cell_type": "code",
   "execution_count": 3,
   "id": "cd64e921-b70d-410a-8110-bc0afd47368c",
   "metadata": {},
   "outputs": [
    {
     "name": "stdout",
     "output_type": "stream",
     "text": [
      "Distance from 1 to 1 is 0\n",
      "Distance from 1 to 2 is 1\n",
      "Distance from 1 to 3 is 1\n",
      "Distance from 1 to 4 is 2\n"
     ]
    }
   ],
   "source": [
    "adj_list={1:[2,3], 2:[1], 3: [3,4], 4:[2,1]}\n",
    "bfs(1,4,adj_list)"
   ]
  },
  {
   "cell_type": "code",
   "execution_count": 19,
   "id": "ea5631a1-f6c7-4c7c-b1e5-014746f8d649",
   "metadata": {},
   "outputs": [],
   "source": [
    "color={}\n",
    "def dfs(n):\n",
    "    global color\n",
    "    for x in range(1,n+1):\n",
    "        color[x]=\"white\"\n",
    "    for x in range(1,n+1):\n",
    "        if color[x]==\"white\":\n",
    "            dfs_visit(x)"
   ]
  },
  {
   "cell_type": "code",
   "execution_count": 25,
   "id": "1398a2d5-6c0a-4ab6-b431-9d89e29bf372",
   "metadata": {},
   "outputs": [],
   "source": [
    "def dfs_visit(node):\n",
    "    print(node)\n",
    "    color[node]=\"gray\"\n",
    "    for x in adj_list[node]:\n",
    "        if color[x]==\"white\":\n",
    "            dfs_visit(x)\n",
    "    color[node]=\"black\"\n",
    "    \n"
   ]
  },
  {
   "cell_type": "code",
   "execution_count": 27,
   "id": "0c41598d-8283-4c9e-9c5a-92a4fe088a78",
   "metadata": {},
   "outputs": [
    {
     "name": "stdout",
     "output_type": "stream",
     "text": [
      "1\n",
      "2\n",
      "3\n",
      "4\n"
     ]
    }
   ],
   "source": [
    "adj_list={1:[2,3], 2:[1], 3: [3,4], 4:[2,1]}\n",
    "dfs(4)"
   ]
  },
  {
   "cell_type": "code",
   "execution_count": 57,
   "id": "b9011233-449a-4484-ae17-6aa2d50aef04",
   "metadata": {},
   "outputs": [],
   "source": [
    "graph1 = {'Oradea': ['Zerind', 'Sibiu'], 'Zerind': ['Oradea', 'Arad'], 'Arad': ['Zerind', 'Timisoara', 'Sibiu'],\n",
    "         'Timisoara': ['Arad', 'Lugoj'], 'Lugoj': ['Timisoara', 'Mehadia'], 'Mehadia': ['Lugoj', 'Dobreta'],\n",
    "         'Dobreta': ['Mehadia', 'Craiova'], 'Craiova': ['Dobreta', 'Rimnicu Vilcea', 'Pitesti'],\n",
    "         'Sibiu': ['Arad', 'Oradea', 'Rimnicu Vilcea', 'Fagaras'], 'Rimnicu Vilcea': ['Sibiu', 'Craiova', 'Pitesti'],\n",
    "         'Fagaras': ['Sibiu', 'Bucharest'], 'Pitesti': ['Bucharest', 'Rimnicu Vilcea', 'Craiova'],\n",
    "         'Bucharest': ['Fagaras', 'Pitesti', 'Giurgiu', 'Urziceni'], 'Giurgiu': ['Bucharest'],\n",
    "         'Urziceni': ['Bucharest', 'Hirsova', 'Vaslui'], 'Hirsova': ['Urziceni', 'Eforie'], 'Eforie': ['Hirsova'],\n",
    "         'Vaslui': ['Urziceni', 'Iasi'], 'Iasi': ['Vaslui', 'Neamt'], 'Neamt': ['Iasi']}\n",
    "hsld = {'Arad': 366, 'Bucharest': 0, 'Craiova': 160, 'Dobreta': 242, 'Eforie': 161, 'Fagaras': 176, 'Giurgiu': 77,\n",
    "        'Hirsova': 151, 'Iasi': 226, 'Lugoj': 244, 'Mehadia': 241, 'Neamt': 234, 'Oradea': 380, 'Pitesti': 100,\n",
    "        'Rimnicu Vilcea': 193, 'Sibiu': 253, 'Timisoara': 329, 'Urziceni': 80, 'Vaslui': 199, 'Zerind': 374}\n",
    "graph2 = {'Oradea':{'Zerind':71,'Sibiu':151},'Zerind':{'Oradea':71,'Arad':75},'Arad':{'Zerind':75,'Timisoara':118,'Sibiu':140},'Timisoara':{'Arad':118,'Lugoj':111},'Lugoj':{'Timisoara':111,'Mehadia':70},'Mehadia':{'Lugoj':70,'Dobreta':70},'Dobreta':{'Mehadia':75,'Craiova':120},'Craiova':{'Dobreta':120,'Rimnicu Vilcea':146,'Pitesti':138},'Sibiu':{'Arad':140,'Oradea':151,'Rimnicu Vilcea':80,'Fagaras':99},'Rimnicu Vilcea':{'Sibiu':80,'Craiova':146,'Pitesti':97},'Fagaras':{'Sibiu':99,'Bucharest':221},'Pitesti':{'Bucharest':101,'Rimnicu Vilcea':97,'Craiova':138},'Bucharest':{'Fagaras':211,'Pitesti':101,'Giurgiu':90,'Urziceni':85},'Giurgiu':{'Bucharest':90},'Urziceni':{'Bucharest':85,'Hirsova':98,'Vaslui':142},'Hirsova':{'Urziceni':98,'Eforie':86},'Eforie':{'Hirsova':86},'Vaslui':{'Urziceni':142,'Iasi':92},'Iasi':{'Neamt':87,'Vaslui':92},'Neamt':{'Iasi':87}}\n"
   ]
  },
  {
   "cell_type": "code",
   "execution_count": 77,
   "id": "d6f9997a-d2cf-48e2-870c-2d6062e7983f",
   "metadata": {},
   "outputs": [],
   "source": [
    "path=[]"
   ]
  },
  {
   "cell_type": "code",
   "execution_count": 79,
   "id": "ab6d84b3-c354-405c-ad13-2bb7dd6516c3",
   "metadata": {},
   "outputs": [],
   "source": [
    "def greedy(start,end,present):\n",
    "    path.append(start)\n",
    "    if start==end:\n",
    "        prev=path[0]\n",
    "        c=0\n",
    "        for x in range(1,len(path)):\n",
    "            c+=graph2[prev][path[x]]\n",
    "            prev=path[x]\n",
    "        print(f\"total cost: {c}\")\n",
    "        return\n",
    "    u=graph1[start]\n",
    "    cost=[(v,hsld[v]+graph2[start][v]+present) for v in u]\n",
    "    cost_sorted=sorted(cost,key=lambda x:x[1])\n",
    "    greedy(cost_sorted[0][0],end,present+graph2[start][cost_sorted[0][0]])\n",
    "    "
   ]
  },
  {
   "cell_type": "code",
   "execution_count": 81,
   "id": "0b0cb67f-854f-4a6c-836b-183493061108",
   "metadata": {},
   "outputs": [
    {
     "name": "stdout",
     "output_type": "stream",
     "text": [
      "total cost: 418\n"
     ]
    }
   ],
   "source": [
    "greedy(\"Arad\",\"Bucharest\",0)"
   ]
  },
  {
   "cell_type": "code",
   "execution_count": null,
   "id": "7ebcca09-78c9-49fd-a1d1-db0c5c88e2f9",
   "metadata": {},
   "outputs": [],
   "source": []
  }
 ],
 "metadata": {
  "kernelspec": {
   "display_name": "Python 3 (ipykernel)",
   "language": "python",
   "name": "python3"
  },
  "language_info": {
   "codemirror_mode": {
    "name": "ipython",
    "version": 3
   },
   "file_extension": ".py",
   "mimetype": "text/x-python",
   "name": "python",
   "nbconvert_exporter": "python",
   "pygments_lexer": "ipython3",
   "version": "3.12.4"
  }
 },
 "nbformat": 4,
 "nbformat_minor": 5
}
