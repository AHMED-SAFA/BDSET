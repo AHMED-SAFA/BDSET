{
 "cells": [
  {
   "cell_type": "code",
   "execution_count": 15,
   "id": "c46df6fb-952d-440b-bc03-e9e55a67e72a",
   "metadata": {},
   "outputs": [],
   "source": [
    "from collections import defaultdict\n",
    "adj_list={1:[2,3],2:[1,4],3:[1],4:[2]}\n",
    "color={}"
   ]
  },
  {
   "cell_type": "code",
   "execution_count": 23,
   "id": "83024329-30d0-4083-9583-626d539d9ee9",
   "metadata": {},
   "outputs": [],
   "source": [
    "def dfs(n,max_depth):\n",
    "    global color\n",
    "    for i in range(1,n+1):\n",
    "        color[i]=\"white\"\n",
    "    for i in range(1,n+1):\n",
    "        if color[i]==\"white\":\n",
    "            dfs_visit(i,0,max_depth)\n",
    "    "
   ]
  },
  {
   "cell_type": "code",
   "execution_count": 25,
   "id": "86c9a3b3-d0da-46c5-bdaf-d67e7bf4cf8f",
   "metadata": {},
   "outputs": [],
   "source": [
    "def dfs_visit(node,depth,max_depth):\n",
    "    print(node)\n",
    "    color[node]=\"gray\"\n",
    "    if depth>max_depth:\n",
    "        return\n",
    "    for neighbor in adj_list[node]:\n",
    "        if color[neighbor]==\"white\":\n",
    "            dfs_visit(neighbor,depth+1,max_depth)\n",
    "    color[node]=\"black\""
   ]
  },
  {
   "cell_type": "code",
   "execution_count": 27,
   "id": "a9f4871a-4c41-49dc-b3df-3cb017f94d5f",
   "metadata": {},
   "outputs": [
    {
     "name": "stdout",
     "output_type": "stream",
     "text": [
      "1\n",
      "2\n",
      "4\n",
      "3\n"
     ]
    }
   ],
   "source": [
    "dfs(4,2)"
   ]
  },
  {
   "cell_type": "code",
   "execution_count": null,
   "id": "f89898d8-b57d-40bf-b16d-c2d4dab0d80e",
   "metadata": {},
   "outputs": [],
   "source": []
  }
 ],
 "metadata": {
  "kernelspec": {
   "display_name": "Python 3 (ipykernel)",
   "language": "python",
   "name": "python3"
  },
  "language_info": {
   "codemirror_mode": {
    "name": "ipython",
    "version": 3
   },
   "file_extension": ".py",
   "mimetype": "text/x-python",
   "name": "python",
   "nbconvert_exporter": "python",
   "pygments_lexer": "ipython3",
   "version": "3.12.4"
  }
 },
 "nbformat": 4,
 "nbformat_minor": 5
}
