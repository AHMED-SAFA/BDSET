{
 "cells": [
  {
   "cell_type": "code",
   "execution_count": null,
   "id": "31c38929-858e-4354-aef1-eb9990b31c27",
   "metadata": {},
   "outputs": [],
   "source": [
    "f = open(\"test.txt\", \"w\")\n",
    "print(f)"
   ]
  },
  {
   "cell_type": "code",
   "execution_count": null,
   "id": "3ddf6212-6c7a-44f2-8be5-62073752df7f",
   "metadata": {},
   "outputs": [],
   "source": [
    "<_io.TextIOWrapper name='test.txt' mode='w' encoding='cp1252'>\n",
    "default encoding is platform dependent. In windows, it is \"cp1252\"\n",
    "utf-8 for linux"
   ]
  },
  {
   "cell_type": "code",
   "execution_count": null,
   "id": "ac2793d7-1772-4797-84bc-c4e94300d26a",
   "metadata": {},
   "outputs": [],
   "source": [
    "r\tRead -Opens a file for reading only. The file pointer is placed at the beginning of the file. This is the default mode.\n",
    "t\tText - Opens in text mode. (default).\n",
    "b\tBinary - Opens in binary mode (e.g. images).\n",
    "x\tCreate - Opens a file for exclusive creation. If the file already exists, the operation fails.\n",
    "rb\tOpens a file for reading only in binary format. The file pointer is placed at the beginning of the file. This is the default mode.\n",
    "r+\tOpens a file for both reading and writing. The file pointer placed at the beginning of the file.\n",
    "rb+\tOpens a file for both reading and writing in binary format. The file pointer placed at the beginning of the file.\n",
    "w\tWrite - Opens a file for writing only. Overwrites the file if the file exists. If the file does not exist, creates a new file for writing.\n",
    "wb\tOpens a file for writing only in binary format. Overwrites the file if the file exists. If the file does not exist, creates a new file for writing.\n",
    "w+\tOpens a file for both writing and reading. Overwrites the existing file if the file exists. If the file does not exist, creates a new file for reading and writing.\n",
    "wb+\tOpens a file for both writing and reading in binary format. Overwrites the existing file if the file exists. If the file does not exist, creates a new file for reading and writing.\n",
    "a\tAppend - Opens a file for appending. The file pointer is at the end of the file if the file exists. That is, the file is in the append mode. If the file does not exist, it creates a new file for writing.\n",
    "ab\tOpens a file for appending in binary format. The file pointer is at the end of the file if the file exists. That is, the file is in the append mode. If the file does not exist, it creates a new file for writing.\n",
    "a+\tOpens a file for both appending and reading. The file pointer is at the end of the file if the file exists. The file opens in the append mode. If the file does not exist, it creates a new file for reading and writing.\n",
    "ab+\tOpens a file for both appending and reading in binary format. The file pointer is at the end of the file if the file exists. The file opens in the append mode. If the file does not exist, it creates a new file for reading and writing.\n"
   ]
  },
  {
   "cell_type": "code",
   "execution_count": 2,
   "id": "6f464b6b-4966-4a6f-9706-0e8f3e7347da",
   "metadata": {},
   "outputs": [
    {
     "name": "stdout",
     "output_type": "stream",
     "text": [
      "<_io.TextIOWrapper name='test.txt' mode='w' encoding='cp1252'>\n"
     ]
    }
   ],
   "source": [
    "f = open(\"test.txt\",'w')  # write in text mode\n",
    "print(f)"
   ]
  },
  {
   "cell_type": "code",
   "execution_count": null,
   "id": "2bfc02d8-5917-4948-a52a-8f4b1702785a",
   "metadata": {},
   "outputs": [],
   "source": [
    "with open(\"test.txt\", encoding = 'utf-8') as f:\n",
    "   # perform file operations"
   ]
  },
  {
   "cell_type": "code",
   "execution_count": null,
   "id": "98a84856-686e-4d6f-89a1-ea3371d14751",
   "metadata": {},
   "outputs": [],
   "source": [
    "The best way to close a file is by using the with statement. This ensures that the file is closed when the block inside the with statement is exited.\n",
    "We don't need to explicitly call the close() method. It is done internally.\n"
   ]
  },
  {
   "cell_type": "code",
   "execution_count": 4,
   "id": "ab40ccbd-e0bb-454b-8da0-26ca56b4a3f6",
   "metadata": {},
   "outputs": [
    {
     "name": "stdout",
     "output_type": "stream",
     "text": [
      "Name of the file:  data.txt\n",
      "Closed or not :  False\n",
      "Opening mode :  wb\n",
      "Closed or not :  True\n"
     ]
    }
   ],
   "source": [
    "# Open a file\n",
    "data = open(\"data.txt\", \"wb\")\n",
    "print(\"Name of the file: \", data.name)\n",
    "print(\"Closed or not : \", data.closed)\n",
    "print(\"Opening mode : \", data.mode)\n",
    "data.close()\n",
    "print(\"Closed or not : \", data.closed)\n",
    "# closed data.txt file"
   ]
  },
  {
   "cell_type": "code",
   "execution_count": null,
   "id": "47480ca1-dd33-4bdc-8ee9-cf2c2c7f3354",
   "metadata": {},
   "outputs": [],
   "source": [
    "with open(\"safa.txt\", \"w\", encoding=\"utf-8\") as f:\n",
    "    f.write(\"Hello world\\n\")"
   ]
  },
  {
   "cell_type": "code",
   "execution_count": null,
   "id": "8280a9ea-9bde-4d8d-8804-ee3ed05ff251",
   "metadata": {},
   "outputs": [],
   "source": [
    "with open(\"safa.txt\", \"r\", encoding=\"utf-8\") as f:\n",
    "    txt = f.read(10)\n",
    "print(txt)"
   ]
  },
  {
   "cell_type": "code",
   "execution_count": null,
   "id": "896a7391-ad9b-43cb-bb9c-72ac56247346",
   "metadata": {},
   "outputs": [],
   "source": [
    "f.tell()\n",
    "f.seek()\n",
    "f.readline()\n",
    "f.splitlines()"
   ]
  }
 ],
 "metadata": {
  "kernelspec": {
   "display_name": "Python 3 (ipykernel)",
   "language": "python",
   "name": "python3"
  },
  "language_info": {
   "codemirror_mode": {
    "name": "ipython",
    "version": 3
   },
   "file_extension": ".py",
   "mimetype": "text/x-python",
   "name": "python",
   "nbconvert_exporter": "python",
   "pygments_lexer": "ipython3",
   "version": "3.11.7"
  }
 },
 "nbformat": 4,
 "nbformat_minor": 5
}
