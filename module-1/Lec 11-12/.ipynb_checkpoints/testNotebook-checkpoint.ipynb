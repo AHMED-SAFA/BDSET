{
 "cells": [
  {
   "cell_type": "code",
   "execution_count": 1,
   "id": "2daf7159-d6b3-49d3-8a8b-f21168766e21",
   "metadata": {},
   "outputs": [
    {
     "name": "stdout",
     "output_type": "stream",
     "text": [
      "hello world\n"
     ]
    }
   ],
   "source": [
    "print(\"hello world\")"
   ]
  },
  {
   "cell_type": "code",
   "execution_count": 54,
   "id": "c03866b0-0a68-4e8b-85be-9acd267c166f",
   "metadata": {},
   "outputs": [
    {
     "name": "stdout",
     "output_type": "stream",
     "text": [
      "Collecting pandas\n",
      "  Downloading pandas-2.2.3-cp310-cp310-win_amd64.whl.metadata (19 kB)\n",
      "Requirement already satisfied: numpy>=1.22.4 in c:\\users\\bdset\\miniconda3\\envs\\testenv\\lib\\site-packages (from pandas) (2.1.2)\n",
      "Requirement already satisfied: python-dateutil>=2.8.2 in c:\\users\\bdset\\miniconda3\\envs\\testenv\\lib\\site-packages (from pandas) (2.9.0.post0)\n",
      "Requirement already satisfied: pytz>=2020.1 in c:\\users\\bdset\\miniconda3\\envs\\testenv\\lib\\site-packages (from pandas) (2024.1)\n",
      "Collecting tzdata>=2022.7 (from pandas)\n",
      "  Downloading tzdata-2024.2-py2.py3-none-any.whl.metadata (1.4 kB)\n",
      "Requirement already satisfied: six>=1.5 in c:\\users\\bdset\\miniconda3\\envs\\testenv\\lib\\site-packages (from python-dateutil>=2.8.2->pandas) (1.16.0)\n",
      "Downloading pandas-2.2.3-cp310-cp310-win_amd64.whl (11.6 MB)\n",
      "   ---------------------------------------- 0.0/11.6 MB ? eta -:--:--\n",
      "   ----- ---------------------------------- 1.6/11.6 MB 8.4 MB/s eta 0:00:02\n",
      "   --------- ------------------------------ 2.9/11.6 MB 7.0 MB/s eta 0:00:02\n",
      "   ------------- -------------------------- 3.9/11.6 MB 6.5 MB/s eta 0:00:02\n",
      "   --------------- ------------------------ 4.5/11.6 MB 5.7 MB/s eta 0:00:02\n",
      "   ------------------ --------------------- 5.2/11.6 MB 5.1 MB/s eta 0:00:02\n",
      "   ------------------- -------------------- 5.8/11.6 MB 4.6 MB/s eta 0:00:02\n",
      "   ---------------------- ----------------- 6.6/11.6 MB 4.4 MB/s eta 0:00:02\n",
      "   ------------------------- -------------- 7.3/11.6 MB 4.3 MB/s eta 0:00:01\n",
      "   ---------------------------- ----------- 8.1/11.6 MB 4.3 MB/s eta 0:00:01\n",
      "   ---------------------------- ----------- 8.4/11.6 MB 4.2 MB/s eta 0:00:01\n",
      "   ----------------------------- ---------- 8.7/11.6 MB 3.9 MB/s eta 0:00:01\n",
      "   ------------------------------ --------- 8.9/11.6 MB 3.7 MB/s eta 0:00:01\n",
      "   -------------------------------- ------- 9.4/11.6 MB 3.5 MB/s eta 0:00:01\n",
      "   ---------------------------------- ----- 10.0/11.6 MB 3.4 MB/s eta 0:00:01\n",
      "   ------------------------------------- -- 10.7/11.6 MB 3.4 MB/s eta 0:00:01\n",
      "   ---------------------------------------  11.5/11.6 MB 3.4 MB/s eta 0:00:01\n",
      "   ---------------------------------------- 11.6/11.6 MB 3.4 MB/s eta 0:00:00\n",
      "Downloading tzdata-2024.2-py2.py3-none-any.whl (346 kB)\n",
      "Installing collected packages: tzdata, pandas\n",
      "Successfully installed pandas-2.2.3 tzdata-2024.2\n"
     ]
    }
   ],
   "source": [
    "!pip install pandas"
   ]
  },
  {
   "cell_type": "code",
   "execution_count": null,
   "id": "68b601b0-34fe-4025-933e-d7c8ac173636",
   "metadata": {},
   "outputs": [],
   "source": [
    "import numpy as np\n",
    "\n",
    "a = np.empty([2,3,3], dtype=int)\n",
    "\n",
    "print(a[0])"
   ]
  },
  {
   "cell_type": "code",
   "execution_count": 23,
   "id": "50c28806-c494-464e-b24f-c5fbbfc5b2f4",
   "metadata": {},
   "outputs": [
    {
     "name": "stdout",
     "output_type": "stream",
     "text": [
      "[1. 1. 1. 1.]\n"
     ]
    }
   ],
   "source": [
    "m = np.array([2, 3, 4, 5])\n",
    "n = np.array([2,3,4,5])\n",
    "p = m / n\n",
    "\n",
    "print(p)"
   ]
  },
  {
   "cell_type": "code",
   "execution_count": 35,
   "id": "059767f6-3de0-4c5e-bb73-cfded2639f80",
   "metadata": {},
   "outputs": [
    {
     "data": {
      "text/plain": [
       "array([ 1,  2,  3,  4,  5,  6,  7,  8,  9, 10, 11, 12, 13, 14, 15, 16, 17,\n",
       "       18, 19])"
      ]
     },
     "execution_count": 35,
     "metadata": {},
     "output_type": "execute_result"
    }
   ],
   "source": [
    "a = np.arange(1,20,1)\n",
    "\n",
    "a"
   ]
  },
  {
   "cell_type": "code",
   "execution_count": 42,
   "id": "05200390-e076-4458-997b-9915e9be0519",
   "metadata": {},
   "outputs": [
    {
     "name": "stdout",
     "output_type": "stream",
     "text": [
      "[19 17 15 13 11  9  7]\n"
     ]
    }
   ],
   "source": [
    "print(a[-1:5:-2])"
   ]
  },
  {
   "cell_type": "code",
   "execution_count": 52,
   "id": "ebc3e98b-dac4-4bb6-b766-d9a3986a9349",
   "metadata": {},
   "outputs": [
    {
     "name": "stdout",
     "output_type": "stream",
     "text": [
      "[[0 3]\n",
      " [1 4]\n",
      " [2 5]]\n"
     ]
    }
   ],
   "source": [
    "c = np.array([\n",
    "    [0,1,2],\n",
    "    [3,4,5]\n",
    "])\n",
    "\n",
    "print(c.T)"
   ]
  },
  {
   "cell_type": "code",
   "execution_count": 15,
   "id": "cf9cd4da-a1f0-484e-aad7-29ea35f783eb",
   "metadata": {},
   "outputs": [
    {
     "name": "stderr",
     "output_type": "stream",
     "text": [
      "'cwd' is not recognized as an internal or external command,\n",
      "operable program or batch file.\n"
     ]
    }
   ],
   "source": []
  },
  {
   "cell_type": "code",
   "execution_count": 23,
   "id": "922e4add-70c1-48ee-b689-44de57d7cfc3",
   "metadata": {},
   "outputs": [
    {
     "ename": "AttributeError",
     "evalue": "module 'pandas' has no attribute 'write_csv'",
     "output_type": "error",
     "traceback": [
      "\u001b[1;31m---------------------------------------------------------------------------\u001b[0m",
      "\u001b[1;31mAttributeError\u001b[0m                            Traceback (most recent call last)",
      "Cell \u001b[1;32mIn[23], line 8\u001b[0m\n\u001b[0;32m      6\u001b[0m pd\u001b[38;5;241m.\u001b[39mSeries(c[\u001b[38;5;241m1\u001b[39m])\n\u001b[0;32m      7\u001b[0m pd\u001b[38;5;241m.\u001b[39mDataFrame()\n\u001b[1;32m----> 8\u001b[0m \u001b[43mpd\u001b[49m\u001b[38;5;241;43m.\u001b[39;49m\u001b[43mwrite_csv\u001b[49m(\u001b[38;5;124m'\u001b[39m\u001b[38;5;124mtest2.csv\u001b[39m\u001b[38;5;124m'\u001b[39m)\n",
      "\u001b[1;31mAttributeError\u001b[0m: module 'pandas' has no attribute 'write_csv'"
     ]
    }
   ],
   "source": [
    "import pandas as pd\n",
    "import numpy as np\n",
    "c = np.array(['atls',2,3])\n",
    "d = np.array(['3','4.6','5'])\n",
    "#a = c+d\n",
    "pd.Series(c[1])\n",
    "pd.DataFrame()\n",
    "#pd.write_csv('test2.csv')\n",
    "#pd.read_csv('C:/test.csv')\n"
   ]
  },
  {
   "cell_type": "code",
   "execution_count": null,
   "id": "3918e69d-dbf1-432b-a198-3921d655ce90",
   "metadata": {},
   "outputs": [],
   "source": []
  },
  {
   "cell_type": "code",
   "execution_count": null,
   "id": "af7ab849-0fc5-452f-8da1-a8ecd6493f33",
   "metadata": {},
   "outputs": [],
   "source": []
  }
 ],
 "metadata": {
  "kernelspec": {
   "display_name": "Python 3 (ipykernel)",
   "language": "python",
   "name": "python3"
  },
  "language_info": {
   "codemirror_mode": {
    "name": "ipython",
    "version": 3
   },
   "file_extension": ".py",
   "mimetype": "text/x-python",
   "name": "python",
   "nbconvert_exporter": "python",
   "pygments_lexer": "ipython3",
   "version": "3.10.15"
  }
 },
 "nbformat": 4,
 "nbformat_minor": 5
}
