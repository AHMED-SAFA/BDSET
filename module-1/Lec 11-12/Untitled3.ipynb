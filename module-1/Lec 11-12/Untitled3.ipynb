{
 "cells": [
  {
   "cell_type": "code",
   "execution_count": 1,
   "id": "77531e4b-2413-4af7-b8be-32e118a24830",
   "metadata": {},
   "outputs": [
    {
     "name": "stdout",
     "output_type": "stream",
     "text": [
      "hello world\n"
     ]
    }
   ],
   "source": [
    "print('hello world')"
   ]
  },
  {
   "cell_type": "code",
   "execution_count": 3,
   "id": "4beaff35-1f49-4e9d-aecc-4ade1bbf1d9e",
   "metadata": {},
   "outputs": [],
   "source": [
    "import numpy as np\n"
   ]
  },
  {
   "cell_type": "code",
   "execution_count": 15,
   "id": "b62361c7-ef50-46aa-a5cf-737283a6da51",
   "metadata": {},
   "outputs": [
    {
     "name": "stdout",
     "output_type": "stream",
     "text": [
      "[[[0 0 0 0]\n",
      "  [0 0 0 0]\n",
      "  [0 0 0 0]]\n",
      "\n",
      " [[0 0 0 0]\n",
      "  [0 0 0 0]\n",
      "  [0 0 0 0]]]\n"
     ]
    }
   ],
   "source": [
    "# np.empty # np.zeros # np.arange # np.array # np.zeros_like(arr)\n",
    "\n",
    "a = np.zeros([2,3,4], dtype=int)\n",
    "print(a)"
   ]
  },
  {
   "cell_type": "code",
   "execution_count": 25,
   "id": "8377371a-f86e-4958-9397-b50f0199437e",
   "metadata": {},
   "outputs": [
    {
     "data": {
      "text/plain": [
       "array([10,  8,  6,  4,  2])"
      ]
     },
     "execution_count": 25,
     "metadata": {},
     "output_type": "execute_result"
    }
   ],
   "source": [
    "np.arange(10,0,-2)"
   ]
  },
  {
   "cell_type": "code",
   "execution_count": 70,
   "id": "4590216b-39ae-463f-8b6b-b62ec4ffda01",
   "metadata": {},
   "outputs": [
    {
     "name": "stdout",
     "output_type": "stream",
     "text": [
      "['21.0' '2' '4' '5' '6']\n",
      "['1' '2' '4' '5']\n",
      "(4,)\n",
      "['21.01' '22' '44' '55' '6']\n"
     ]
    }
   ],
   "source": [
    "b = np.array(['21.0',2,4,5,6])\n",
    "# print(b[1,3:0:-1])\n",
    "print(b)\n",
    "c = np.array(['1',2,4,5])\n",
    "print(c)\n",
    "print(c.shape)\n",
    "# d = b\n",
    "b[0:4] = b[0:4] + c\n",
    "print(b)"
   ]
  },
  {
   "cell_type": "code",
   "execution_count": 72,
   "id": "b9e1461c-02d0-4087-9f82-2a8551672937",
   "metadata": {},
   "outputs": [
    {
     "name": "stdout",
     "output_type": "stream",
     "text": [
      "Collecting pandas\n",
      "  Using cached pandas-2.2.3-cp310-cp310-win_amd64.whl.metadata (19 kB)\n",
      "Requirement already satisfied: numpy>=1.22.4 in c:\\users\\bdset\\miniconda3\\envs\\testenv3\\lib\\site-packages (from pandas) (2.1.2)\n",
      "Requirement already satisfied: python-dateutil>=2.8.2 in c:\\users\\bdset\\miniconda3\\envs\\testenv3\\lib\\site-packages (from pandas) (2.9.0.post0)\n",
      "Collecting pytz>=2020.1 (from pandas)\n",
      "  Using cached pytz-2024.2-py2.py3-none-any.whl.metadata (22 kB)\n",
      "Collecting tzdata>=2022.7 (from pandas)\n",
      "  Using cached tzdata-2024.2-py2.py3-none-any.whl.metadata (1.4 kB)\n",
      "Requirement already satisfied: six>=1.5 in c:\\users\\bdset\\miniconda3\\envs\\testenv3\\lib\\site-packages (from python-dateutil>=2.8.2->pandas) (1.16.0)\n",
      "Using cached pandas-2.2.3-cp310-cp310-win_amd64.whl (11.6 MB)\n",
      "Using cached pytz-2024.2-py2.py3-none-any.whl (508 kB)\n",
      "Using cached tzdata-2024.2-py2.py3-none-any.whl (346 kB)\n",
      "Installing collected packages: pytz, tzdata, pandas\n",
      "Successfully installed pandas-2.2.3 pytz-2024.2 tzdata-2024.2\n"
     ]
    }
   ],
   "source": [
    "!pip install pandas"
   ]
  },
  {
   "cell_type": "code",
   "execution_count": 77,
   "id": "46dfd5d7-b561-4039-9795-692ff6c10152",
   "metadata": {},
   "outputs": [
    {
     "name": "stdout",
     "output_type": "stream",
     "text": [
      "day1    1\n",
      "day2    2\n",
      "day3    3\n",
      "day4    4\n",
      "dtype: int64\n"
     ]
    }
   ],
   "source": [
    "import pandas as pd\n",
    "a = {'day1':1,'day2':2,'day3':3,'day4':4}\n",
    "ser = pd.Series(a)\n",
    "\n",
    "print(ser)"
   ]
  },
  {
   "cell_type": "code",
   "execution_count": 115,
   "id": "da04d386-cfc1-4d06-ac83-ccfd9a8d7321",
   "metadata": {},
   "outputs": [
    {
     "name": "stdout",
     "output_type": "stream",
     "text": [
      "   id    name   roll\n",
      "0   1  sourav   33.0\n",
      "1   2   hamim   90.0\n",
      "2   1  sourav   60.0\n",
      "3   2   hamim  100.0\n",
      "4   1  sourav   33.0\n",
      "             id      roll\n",
      "count  6.000000    5.0000\n",
      "mean   1.500000   63.2000\n",
      "std    0.547723   31.2522\n",
      "min    1.000000   33.0000\n",
      "25%    1.000000   33.0000\n",
      "50%    1.500000   60.0000\n",
      "75%    2.000000   90.0000\n",
      "max    2.000000  100.0000\n"
     ]
    }
   ],
   "source": [
    "df = pd.read_csv('test.csv')\n",
    "df2 = df.filter(['roll','name'])\n",
    "print(df.dropna(how='any',axis=0))\n",
    "# print(pd.DataFrame(df,index=['day1','day2','day3',3]))\n",
    "print(df.describe())\n"
   ]
  },
  {
   "cell_type": "code",
   "execution_count": null,
   "id": "a6b6e02a-a192-478c-b593-6d55efd6e21e",
   "metadata": {},
   "outputs": [],
   "source": [
    "!pip install matplotlib"
   ]
  },
  {
   "cell_type": "code",
   "execution_count": 107,
   "id": "b52999cd-7be1-4a37-9015-e2c4d89968f3",
   "metadata": {},
   "outputs": [],
   "source": [
    "import matplotlib.pyplot as plt\n",
    "\n",
    "# plot # bar #hist"
   ]
  },
  {
   "cell_type": "code",
   "execution_count": 113,
   "id": "be9e4eb5-c247-4891-92ee-7eba151bc0c8",
   "metadata": {},
   "outputs": [
    {
     "data": {
      "image/png": "[encoded data removed]",
      "text/plain": [
       "<Figure size 640x480 with 1 Axes>"
      ]
     },
     "metadata": {},
     "output_type": "display_data"
    }
   ],
   "source": [
    "plt.bar([0,1,2,3],[32,35,23,25])\n",
    "plt.axis([0,4,20,40])\n",
    "plt.title('testTitle')\n",
    "plt.legend(['temperature'])\n",
    "plt.show()"
   ]
  }
 ],
 "metadata": {
  "kernelspec": {
   "display_name": "Python 3 (ipykernel)",
   "language": "python",
   "name": "python3"
  },
  "language_info": {
   "codemirror_mode": {
    "name": "ipython",
    "version": 3
   },
   "file_extension": ".py",
   "mimetype": "text/x-python",
   "name": "python",
   "nbconvert_exporter": "python",
   "pygments_lexer": "ipython3",
   "version": "3.10.15"
  }
 },
 "nbformat": 4,
 "nbformat_minor": 5
}
