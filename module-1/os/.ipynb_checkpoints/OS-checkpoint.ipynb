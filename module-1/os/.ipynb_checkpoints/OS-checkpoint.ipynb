{
 "cells": [
  {
   "cell_type": "code",
   "execution_count": null,
   "id": "6ca3570a-6c3d-4a6a-9fc2-444c0ccb795b",
   "metadata": {},
   "outputs": [],
   "source": [
    "import os\n",
    "os.remove('example.txt')\n",
    "print(os.getcwd()) #This method returns the current working directory in the form of a string\n",
    "os.listdir() #This method takes in a path and returns a list of subdirectories and files in that path\n",
    "# Changing a directory back to original directory \"C:\\Users\\Deepak\\01_Learn_Python4Data\\05_Python_Files\"\n",
    "os.chdir(r\"C:\\Users\\Deepak\\01_Learn_Python4Data\\05_Python_Files\") \n",
    "os.mkdir('python_study')\n",
    "os.rmdir('python_study')  #cant delete when the directory is not empty or full\n",
    "os.rename('data_1.txt','my_data.txt')\n",
    "if os.path.exists('./files/example.txt'):\n",
    "    os.remove('./files/example.txt')"
   ]
  },
  {
   "cell_type": "code",
   "execution_count": null,
   "id": "c85bd35c-7c78-42d3-b5a4-bc96ef5ebbac",
   "metadata": {},
   "outputs": [],
   "source": [
    "import shutil\n",
    "shutil.rmtree('python_learning')\n",
    "os.listdir()\n",
    "\n",
    "#shutil rmtree works when a folder is full. it deletes it forcefully"
   ]
  },
  {
   "cell_type": "code",
   "execution_count": null,
   "id": "11b51c8a-df3b-4838-a71f-78c507c44295",
   "metadata": {},
   "outputs": [],
   "source": [
    "import csv\n",
    "with open('csv_example.csv') as f:\n",
    "    csv_reader = csv.reader(f, delimiter=',')\n",
    "    line_count = 0\n",
    "    for row in csv_reader:\n",
    "        if line_count == 0:\n",
    "            print(f'Column names are :{\", \".join(row)}')\n",
    "            line_count += 1\n",
    "        else:\n",
    "            print(\n",
    "                f'\\t{row[0]} is a teachers. He lives in {row[1]}, {row[2]}.')\n",
    "            line_count += 1\n",
    "    print(f'Number of lines:  {line_count}')"
   ]
  }
 ],
 "metadata": {
  "kernelspec": {
   "display_name": "Python 3 (ipykernel)",
   "language": "python",
   "name": "python3"
  },
  "language_info": {
   "codemirror_mode": {
    "name": "ipython",
    "version": 3
   },
   "file_extension": ".py",
   "mimetype": "text/x-python",
   "name": "python",
   "nbconvert_exporter": "python",
   "pygments_lexer": "ipython3",
   "version": "3.11.7"
  }
 },
 "nbformat": 4,
 "nbformat_minor": 5
}
